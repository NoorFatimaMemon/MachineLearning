{
 "cells": [
  {
   "cell_type": "markdown",
   "metadata": {},
   "source": [
    "# **Hierarchical Clustering**\n",
    "\n",
    "Hierarchical clustering is a connectivity-based clustering model that groups the data points together that are close to each other based on the measure of similarity or distance. The assumption is that data points that are close to each other are more similar or related than data points that are farther apart.\n",
    "\n",
    "A dendrogram (tree-like figure) depicts hierarchical relationships, with individual data points at the bottom and largest clusters at the top.\n",
    "\n",
    "Dendrograms are created by iteratively merging or splitting clusters until all points are in one cluster or a set number of clusters is reached.\n",
    "\n",
    "The ideal number of clusters is determined by slicing the dendrogram at the height where branches form distinct clusters.\n",
    "\n",
    "\n",
    "<img src=\"https://media.geeksforgeeks.org/wp-content/uploads/20230425190545/download-(10).png\">\n",
    "\n",
    "\n",
    "## Types of Hierarchical Clustering\n",
    "\n",
    "1. Hierarchical Agglomerative Clustering (HAC) or bottom-up approach: A structure that is more informative than the unstructured set of clusters returned by flat clustering. This clustering algorithm does not require us to prespecify the number of clusters. Bottom-up algorithms treat each data as a singleton cluster at the outset and then successively agglomerate pairs of clusters until all clusters have been merged into a single cluster that contains all data. \n",
    "\n",
    "2. Hierarchical Divisive clustering or top-down approach: This algorithm also does not require to prespecify the number of clusters. It requires a method for splitting a cluster that contains the whole data and proceeds by splitting clusters recursively until individual data have been split into singleton clusters.\n",
    "\n",
    "\n",
    "\n",
    "\n",
    "\n",
    "<img src=\"data:image/png;base64,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\">"
   ]
  },
  {
   "cell_type": "markdown",
   "metadata": {},
   "source": [
    "### **Importing All Necessary Libraries**"
   ]
  },
  {
   "cell_type": "code",
   "execution_count": 19,
   "metadata": {},
   "outputs": [],
   "source": [
    "import pandas as pd\n",
    "import numpy as np\n",
    "from sklearn.preprocessing import StandardScaler, LabelEncoder\n",
    "from scipy.cluster.hierarchy import dendrogram, linkage\n",
    "import matplotlib.pyplot as plt"
   ]
  },
  {
   "cell_type": "markdown",
   "metadata": {},
   "source": [
    "### **Data Framing**"
   ]
  },
  {
   "cell_type": "code",
   "execution_count": 20,
   "metadata": {},
   "outputs": [
    {
     "data": {
      "text/html": [
       "<div>\n",
       "<style scoped>\n",
       "    .dataframe tbody tr th:only-of-type {\n",
       "        vertical-align: middle;\n",
       "    }\n",
       "\n",
       "    .dataframe tbody tr th {\n",
       "        vertical-align: top;\n",
       "    }\n",
       "\n",
       "    .dataframe thead th {\n",
       "        text-align: right;\n",
       "    }\n",
       "</style>\n",
       "<table border=\"1\" class=\"dataframe\">\n",
       "  <thead>\n",
       "    <tr style=\"text-align: right;\">\n",
       "      <th></th>\n",
       "      <th>CustomerID</th>\n",
       "      <th>Gender</th>\n",
       "      <th>Age</th>\n",
       "      <th>Annual Income (k$)</th>\n",
       "      <th>Spending Score (1-100)</th>\n",
       "    </tr>\n",
       "  </thead>\n",
       "  <tbody>\n",
       "    <tr>\n",
       "      <th>0</th>\n",
       "      <td>1</td>\n",
       "      <td>Male</td>\n",
       "      <td>19</td>\n",
       "      <td>15</td>\n",
       "      <td>39</td>\n",
       "    </tr>\n",
       "    <tr>\n",
       "      <th>1</th>\n",
       "      <td>2</td>\n",
       "      <td>Male</td>\n",
       "      <td>21</td>\n",
       "      <td>15</td>\n",
       "      <td>81</td>\n",
       "    </tr>\n",
       "    <tr>\n",
       "      <th>2</th>\n",
       "      <td>3</td>\n",
       "      <td>Female</td>\n",
       "      <td>20</td>\n",
       "      <td>16</td>\n",
       "      <td>6</td>\n",
       "    </tr>\n",
       "    <tr>\n",
       "      <th>3</th>\n",
       "      <td>4</td>\n",
       "      <td>Female</td>\n",
       "      <td>23</td>\n",
       "      <td>16</td>\n",
       "      <td>77</td>\n",
       "    </tr>\n",
       "    <tr>\n",
       "      <th>4</th>\n",
       "      <td>5</td>\n",
       "      <td>Female</td>\n",
       "      <td>31</td>\n",
       "      <td>17</td>\n",
       "      <td>40</td>\n",
       "    </tr>\n",
       "  </tbody>\n",
       "</table>\n",
       "</div>"
      ],
      "text/plain": [
       "   CustomerID  Gender  Age  Annual Income (k$)  Spending Score (1-100)\n",
       "0           1    Male   19                  15                      39\n",
       "1           2    Male   21                  15                      81\n",
       "2           3  Female   20                  16                       6\n",
       "3           4  Female   23                  16                      77\n",
       "4           5  Female   31                  17                      40"
      ]
     },
     "execution_count": 20,
     "metadata": {},
     "output_type": "execute_result"
    }
   ],
   "source": [
    "data = pd.read_csv('Mall_Customers.csv')\n",
    "data.head()"
   ]
  },
  {
   "cell_type": "code",
   "execution_count": 21,
   "metadata": {},
   "outputs": [
    {
     "name": "stdout",
     "output_type": "stream",
     "text": [
      "data shape: (200, 5)\n",
      "\n",
      "CustomerID                0\n",
      "Gender                    0\n",
      "Age                       0\n",
      "Annual Income (k$)        0\n",
      "Spending Score (1-100)    0\n",
      "dtype: int64 \n",
      "\n",
      "       CustomerID         Age  Annual Income (k$)  Spending Score (1-100)\n",
      "count  200.000000  200.000000          200.000000              200.000000\n",
      "mean   100.500000   38.850000           60.560000               50.200000\n",
      "std     57.879185   13.969007           26.264721               25.823522\n",
      "min      1.000000   18.000000           15.000000                1.000000\n",
      "25%     50.750000   28.750000           41.500000               34.750000\n",
      "50%    100.500000   36.000000           61.500000               50.000000\n",
      "75%    150.250000   49.000000           78.000000               73.000000\n",
      "max    200.000000   70.000000          137.000000               99.000000\n"
     ]
    }
   ],
   "source": [
    "print(f\"data shape: {data.shape}\\n\") # Checking data shape\n",
    "print(data.isnull().sum(), \"\\n\") # Checking null values\n",
    "print(data.describe())"
   ]
  },
  {
   "cell_type": "markdown",
   "metadata": {},
   "source": [
    "### **Encoding the 'Gender' column**"
   ]
  },
  {
   "cell_type": "code",
   "execution_count": 22,
   "metadata": {},
   "outputs": [
    {
     "data": {
      "text/html": [
       "<div>\n",
       "<style scoped>\n",
       "    .dataframe tbody tr th:only-of-type {\n",
       "        vertical-align: middle;\n",
       "    }\n",
       "\n",
       "    .dataframe tbody tr th {\n",
       "        vertical-align: top;\n",
       "    }\n",
       "\n",
       "    .dataframe thead th {\n",
       "        text-align: right;\n",
       "    }\n",
       "</style>\n",
       "<table border=\"1\" class=\"dataframe\">\n",
       "  <thead>\n",
       "    <tr style=\"text-align: right;\">\n",
       "      <th></th>\n",
       "      <th>CustomerID</th>\n",
       "      <th>Gender</th>\n",
       "      <th>Age</th>\n",
       "      <th>Annual Income (k$)</th>\n",
       "      <th>Spending Score (1-100)</th>\n",
       "    </tr>\n",
       "  </thead>\n",
       "  <tbody>\n",
       "    <tr>\n",
       "      <th>0</th>\n",
       "      <td>1</td>\n",
       "      <td>1</td>\n",
       "      <td>19</td>\n",
       "      <td>15</td>\n",
       "      <td>39</td>\n",
       "    </tr>\n",
       "    <tr>\n",
       "      <th>1</th>\n",
       "      <td>2</td>\n",
       "      <td>1</td>\n",
       "      <td>21</td>\n",
       "      <td>15</td>\n",
       "      <td>81</td>\n",
       "    </tr>\n",
       "    <tr>\n",
       "      <th>2</th>\n",
       "      <td>3</td>\n",
       "      <td>0</td>\n",
       "      <td>20</td>\n",
       "      <td>16</td>\n",
       "      <td>6</td>\n",
       "    </tr>\n",
       "    <tr>\n",
       "      <th>3</th>\n",
       "      <td>4</td>\n",
       "      <td>0</td>\n",
       "      <td>23</td>\n",
       "      <td>16</td>\n",
       "      <td>77</td>\n",
       "    </tr>\n",
       "    <tr>\n",
       "      <th>4</th>\n",
       "      <td>5</td>\n",
       "      <td>0</td>\n",
       "      <td>31</td>\n",
       "      <td>17</td>\n",
       "      <td>40</td>\n",
       "    </tr>\n",
       "  </tbody>\n",
       "</table>\n",
       "</div>"
      ],
      "text/plain": [
       "   CustomerID  Gender  Age  Annual Income (k$)  Spending Score (1-100)\n",
       "0           1       1   19                  15                      39\n",
       "1           2       1   21                  15                      81\n",
       "2           3       0   20                  16                       6\n",
       "3           4       0   23                  16                      77\n",
       "4           5       0   31                  17                      40"
      ]
     },
     "execution_count": 22,
     "metadata": {},
     "output_type": "execute_result"
    }
   ],
   "source": [
    "label_encoder = LabelEncoder()\n",
    "data['Gender'] = label_encoder.fit_transform(data['Gender'])\n",
    "data.head()"
   ]
  },
  {
   "cell_type": "markdown",
   "metadata": {},
   "source": [
    "Male = 1, Female = 0 "
   ]
  },
  {
   "cell_type": "markdown",
   "metadata": {},
   "source": [
    "### **Selecting relevant columns for clustering including the encoded 'Gender' column**"
   ]
  },
  {
   "cell_type": "code",
   "execution_count": 23,
   "metadata": {},
   "outputs": [],
   "source": [
    "features = data[['Gender', 'Age', 'Annual Income (k$)', 'Spending Score (1-100)']]"
   ]
  },
  {
   "cell_type": "markdown",
   "metadata": {},
   "source": [
    "### **Standardize the features**"
   ]
  },
  {
   "cell_type": "code",
   "execution_count": 24,
   "metadata": {},
   "outputs": [],
   "source": [
    "scaler = StandardScaler()\n",
    "scaled_features = scaler.fit_transform(features)"
   ]
  },
  {
   "cell_type": "markdown",
   "metadata": {},
   "source": [
    "StandardScaler is used to standardize the features. This step ensures that each feature has a mean of 0 and a standard deviation of 1, which is important for clustering algorithms."
   ]
  },
  {
   "cell_type": "markdown",
   "metadata": {},
   "source": [
    "### **Applying hierarchical clustering**"
   ]
  },
  {
   "cell_type": "code",
   "execution_count": 25,
   "metadata": {},
   "outputs": [],
   "source": [
    "linked = linkage(scaled_features, method='ward')"
   ]
  },
  {
   "cell_type": "markdown",
   "metadata": {},
   "source": [
    "method='ward': Specifies that Ward's method should be used for clustering.\n",
    "\n",
    "Ward's Method: Ward's method is a popular agglomerative hierarchical clustering method. It minimizes the total within-cluster variance. At each step, it merges the pair of clusters that leads to the minimum increase in total within-cluster variance."
   ]
  },
  {
   "cell_type": "markdown",
   "metadata": {},
   "source": [
    "### **Plotting the dendrogram'**"
   ]
  },
  {
   "cell_type": "code",
   "execution_count": 26,
   "metadata": {},
   "outputs": [
    {
     "data": {
      "image/png": "[encoded data removed]",
      "text/plain": [
       "<Figure size 1000x600 with 1 Axes>"
      ]
     },
     "metadata": {},
     "output_type": "display_data"
    }
   ],
   "source": [
    "plt.figure(figsize=(10, 6))\n",
    "dendrogram(linked, orientation='top', distance_sort='descending', show_leaf_counts=True)\n",
    "plt.title('Dendrogram for Hierarchical Clustering')\n",
    "plt.xlabel('Customer Data Points')\n",
    "plt.ylabel('Euclidean Distances')\n",
    "plt.show()"
   ]
  },
  {
   "cell_type": "markdown",
   "metadata": {},
   "source": [
    "Key Elements of the Dendrogram\n",
    "\n",
    "1. Y-Axis: Represents the distances between clusters. Height indicates the distance (dissimilarity) between merged clusters.\n",
    "\n",
    "2. X-Axis: Represents individual data points (customers). Each leaf (bottom point) corresponds to a single data point.\n",
    "\n",
    "3. Branches (Linkages): Show how clusters are merged.\n",
    "Vertical position of the merge indicates the distance between clusters.\n",
    "Length of the branch represents the similarity between clusters (shorter branches indicate more similarity).\n",
    "\n",
    "4. Color-Coded Clusters: Different colors (green and orange) differentiate major clusters.\n",
    "Colors visually separate clusters at a chosen threshold level.\n",
    "Interpreting the Dendrogram\n",
    "\n",
    "5. Threshold Line: Draw a horizontal line at a specific height to decide the number of clusters.\n",
    "Branches below this line are considered separate clusters.\n",
    "A reasonable threshold might be around 15 units on the y-axis, indicating two major clusters.\n",
    "\n",
    "6. Cluster Similarity: The dendrogram shows the dataset can be divided into two major clusters at the top level.\n",
    "These major clusters can be further subdivided into smaller clusters, showing the hierarchical nature of clustering.\n",
    "Choosing the Number of Clusters\n",
    "\n",
    "7. Threshold at 15 Units: Divides the data points into two main clusters.\n",
    "\n",
    "8. Lower Threshold: Capture more detailed groupings and increase the number of clusters."
   ]
  },
  {
   "cell_type": "code",
   "execution_count": 27,
   "metadata": {},
   "outputs": [
    {
     "name": "stdout",
     "output_type": "stream",
     "text": [
      "         CustomerID  Gender   Age  Annual Income (k$)  Spending Score (1-100)\n",
      "Cluster                                                                      \n",
      "1            101.25    0.41  28.7               60.45                    68.0\n",
      "2             99.75    0.47  49.0               60.67                    32.4\n"
     ]
    }
   ],
   "source": [
    "from scipy.cluster.hierarchy import fcluster\n",
    "\n",
    "# Choose a threshold to cut the dendrogram\n",
    "threshold = 15  # This can be adjusted based on the dendrogram\n",
    "\n",
    "# Extract clusters\n",
    "clusters = fcluster(linked, threshold, criterion='distance')\n",
    "\n",
    "# Add the cluster labels to the original dataset\n",
    "data['Cluster'] = clusters\n",
    "\n",
    "# Analyze the clusters by computing the mean of each feature for each cluster\n",
    "cluster_analysis = data.groupby('Cluster').mean()\n",
    "\n",
    "# Display the cluster analysis\n",
    "print(cluster_analysis)"
   ]
  },
  {
   "cell_type": "markdown",
   "metadata": {},
   "source": [
    "Explanation\n",
    "\n",
    "CustomerID: The average CustomerID for each cluster. Since CustomerID is not a meaningful feature for clustering (it is just an identifier), its average value doesn't provide useful insights.\n",
    "\n",
    "Gender: The average value of the Gender column, which was encoded as 0 for female and 1 for male. A value of 0.41 in Cluster 1 indicates that there are more females than males in this cluster, while a value of 0.47 in Cluster 2 indicates a roughly equal distribution with a slight male predominance.\n",
    "\n",
    "Age: The average age of customers in each cluster. Cluster 1 has a younger average age of 28.7, while Cluster 2 has an older average age of 49.0.\n",
    "\n",
    "Annual Income (k$): The average annual income in thousands of dollars. Both clusters have a similar average annual income of around 60.45k$ to 60.67k$.\n",
    "\n",
    "Spending Score (1-100): The average spending score. Cluster 1 has a higher average spending score of 68.0, indicating higher spending behavior, while Cluster 2 has a lower average spending score of 32.4, indicating lower spending behavior.\n",
    "\n",
    "Interpretation\n",
    "\n",
    "Cluster 1:\n",
    "Predominantly younger customers (average age: 28.7).\n",
    "Slightly more females than males (Gender: 0.41).\n",
    "Average annual income of around 60.45k$.\n",
    "Higher spending score (68.0), indicating high spending behavior.\n",
    "\n",
    "Cluster 2:\n",
    "Older customers (average age: 49.0).\n",
    "Roughly equal distribution of males and females with a slight male predominance (Gender: 0.47).\n",
    "Average annual income of around 60.67k$.\n",
    "Lower spending score (32.4), indicating lower spending behavior.\n",
    "\n",
    "\n",
    "This analysis helps in understanding the demographic and spending characteristics of each cluster. Cluster 1 consists of younger, higher-spending individuals, while Cluster 2 consists of older, lower-spending individuals. This information can be useful for targeted marketing strategies, customer segmentation, and personalized services."
   ]
  }
 ],
 "metadata": {
  "kernelspec": {
   "display_name": "Python 3",
   "language": "python",
   "name": "python3"
  },
  "language_info": {
   "codemirror_mode": {
    "name": "ipython",
    "version": 3
   },
   "file_extension": ".py",
   "mimetype": "text/x-python",
   "name": "python",
   "nbconvert_exporter": "python",
   "pygments_lexer": "ipython3",
   "version": "3.11.9"
  }
 },
 "nbformat": 4,
 "nbformat_minor": 2
}
