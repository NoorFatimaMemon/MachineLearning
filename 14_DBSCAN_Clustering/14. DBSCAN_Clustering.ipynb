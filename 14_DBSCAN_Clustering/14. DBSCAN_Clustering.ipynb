{
 "cells": [
  {
   "cell_type": "markdown",
   "metadata": {},
   "source": [
    "# **Density-based spatial clustering of applications with noise (DBSCAN) Clustering**"
   ]
  },
  {
   "cell_type": "markdown",
   "metadata": {},
   "source": [
    "### **Importing All Necessary Libraries**"
   ]
  },
  {
   "cell_type": "code",
   "execution_count": 25,
   "metadata": {},
   "outputs": [],
   "source": [
    "import pandas as pd\n",
    "import numpy as np\n",
    "import matplotlib.pyplot as plt\n",
    "from sklearn.cluster import DBSCAN\n",
    "from sklearn.preprocessing import StandardScaler"
   ]
  },
  {
   "cell_type": "markdown",
   "metadata": {},
   "source": [
    "### **Data Framing**"
   ]
  },
  {
   "cell_type": "code",
   "execution_count": 26,
   "metadata": {},
   "outputs": [
    {
     "data": {
      "text/html": [
       "<div>\n",
       "<style scoped>\n",
       "    .dataframe tbody tr th:only-of-type {\n",
       "        vertical-align: middle;\n",
       "    }\n",
       "\n",
       "    .dataframe tbody tr th {\n",
       "        vertical-align: top;\n",
       "    }\n",
       "\n",
       "    .dataframe thead th {\n",
       "        text-align: right;\n",
       "    }\n",
       "</style>\n",
       "<table border=\"1\" class=\"dataframe\">\n",
       "  <thead>\n",
       "    <tr style=\"text-align: right;\">\n",
       "      <th></th>\n",
       "      <th>Weight</th>\n",
       "      <th>Height</th>\n",
       "    </tr>\n",
       "  </thead>\n",
       "  <tbody>\n",
       "    <tr>\n",
       "      <th>0</th>\n",
       "      <td>67.062924</td>\n",
       "      <td>176.086355</td>\n",
       "    </tr>\n",
       "    <tr>\n",
       "      <th>1</th>\n",
       "      <td>68.804094</td>\n",
       "      <td>178.388669</td>\n",
       "    </tr>\n",
       "    <tr>\n",
       "      <th>2</th>\n",
       "      <td>60.930863</td>\n",
       "      <td>170.284496</td>\n",
       "    </tr>\n",
       "    <tr>\n",
       "      <th>3</th>\n",
       "      <td>59.733843</td>\n",
       "      <td>168.691992</td>\n",
       "    </tr>\n",
       "    <tr>\n",
       "      <th>4</th>\n",
       "      <td>65.431230</td>\n",
       "      <td>173.763679</td>\n",
       "    </tr>\n",
       "  </tbody>\n",
       "</table>\n",
       "</div>"
      ],
      "text/plain": [
       "      Weight      Height\n",
       "0  67.062924  176.086355\n",
       "1  68.804094  178.388669\n",
       "2  60.930863  170.284496\n",
       "3  59.733843  168.691992\n",
       "4  65.431230  173.763679"
      ]
     },
     "execution_count": 26,
     "metadata": {},
     "output_type": "execute_result"
    }
   ],
   "source": [
    "data = pd.read_csv('Clustering_gmm.csv')\n",
    "data.head()"
   ]
  },
  {
   "cell_type": "code",
   "execution_count": 27,
   "metadata": {},
   "outputs": [
    {
     "name": "stdout",
     "output_type": "stream",
     "text": [
      "data shape: (12000, 2)\n",
      "\n",
      "Weight    0\n",
      "Height    0\n",
      "dtype: int64 \n",
      "\n",
      "             Weight        Height\n",
      "count  12000.000000  12000.000000\n",
      "mean      61.270240    169.515781\n",
      "std        5.191992      4.800488\n",
      "min       50.433644    160.182164\n",
      "25%       57.772791    166.607599\n",
      "50%       61.961518    169.726252\n",
      "75%       65.439332    172.837284\n",
      "max       70.700456    178.894770\n"
     ]
    }
   ],
   "source": [
    "print(f\"data shape: {data.shape}\\n\") # Checking data shape\n",
    "print(data.isnull().sum(), \"\\n\") # Checking null values\n",
    "print(data.describe())"
   ]
  },
  {
   "cell_type": "markdown",
   "metadata": {},
   "source": [
    "### **Standardize the features**"
   ]
  },
  {
   "cell_type": "code",
   "execution_count": 28,
   "metadata": {},
   "outputs": [],
   "source": [
    "# Standardize the data\n",
    "scaler = StandardScaler()\n",
    "data_scaled = scaler.fit_transform(data[['Weight', 'Height']])"
   ]
  },
  {
   "cell_type": "markdown",
   "metadata": {},
   "source": [
    "StandardScaler is used to standardize the features. This step ensures that each feature has a mean of 0 and a standard deviation of 1, which is important for clustering algorithms."
   ]
  },
  {
   "cell_type": "markdown",
   "metadata": {},
   "source": [
    "### **Create a DBSCAN model**"
   ]
  },
  {
   "cell_type": "code",
   "execution_count": 29,
   "metadata": {},
   "outputs": [],
   "source": [
    "dbscan = DBSCAN(eps=0.5, min_samples=5)\n",
    "dbscan.fit(data_scaled)\n",
    "labels = dbscan.labels_"
   ]
  },
  {
   "cell_type": "markdown",
   "metadata": {},
   "source": [
    "Parameters: eps=0.5 (maximum distance for points in the same neighborhood), min_samples=5 (minimum number of points to form a core point).\n",
    "\n",
    "labels = dbscan.labels_ assigns cluster labels to each data point; -1 indicates noise points.\n",
    "\n",
    "Core Points: Have at least min_samples neighbors within eps distance.\n",
    "\n",
    "Border Points: Within eps distance of a core point but do not meet min_samples."
   ]
  },
  {
   "cell_type": "markdown",
   "metadata": {},
   "source": [
    "### **Adding the cluster labels to the dataframe**"
   ]
  },
  {
   "cell_type": "code",
   "execution_count": 30,
   "metadata": {},
   "outputs": [
    {
     "data": {
      "text/html": [
       "<div>\n",
       "<style scoped>\n",
       "    .dataframe tbody tr th:only-of-type {\n",
       "        vertical-align: middle;\n",
       "    }\n",
       "\n",
       "    .dataframe tbody tr th {\n",
       "        vertical-align: top;\n",
       "    }\n",
       "\n",
       "    .dataframe thead th {\n",
       "        text-align: right;\n",
       "    }\n",
       "</style>\n",
       "<table border=\"1\" class=\"dataframe\">\n",
       "  <thead>\n",
       "    <tr style=\"text-align: right;\">\n",
       "      <th></th>\n",
       "      <th>Weight</th>\n",
       "      <th>Height</th>\n",
       "      <th>Cluster</th>\n",
       "    </tr>\n",
       "  </thead>\n",
       "  <tbody>\n",
       "    <tr>\n",
       "      <th>0</th>\n",
       "      <td>67.062924</td>\n",
       "      <td>176.086355</td>\n",
       "      <td>0</td>\n",
       "    </tr>\n",
       "    <tr>\n",
       "      <th>1</th>\n",
       "      <td>68.804094</td>\n",
       "      <td>178.388669</td>\n",
       "      <td>0</td>\n",
       "    </tr>\n",
       "    <tr>\n",
       "      <th>2</th>\n",
       "      <td>60.930863</td>\n",
       "      <td>170.284496</td>\n",
       "      <td>0</td>\n",
       "    </tr>\n",
       "    <tr>\n",
       "      <th>3</th>\n",
       "      <td>59.733843</td>\n",
       "      <td>168.691992</td>\n",
       "      <td>0</td>\n",
       "    </tr>\n",
       "    <tr>\n",
       "      <th>4</th>\n",
       "      <td>65.431230</td>\n",
       "      <td>173.763679</td>\n",
       "      <td>0</td>\n",
       "    </tr>\n",
       "    <tr>\n",
       "      <th>...</th>\n",
       "      <td>...</td>\n",
       "      <td>...</td>\n",
       "      <td>...</td>\n",
       "    </tr>\n",
       "    <tr>\n",
       "      <th>11995</th>\n",
       "      <td>59.976983</td>\n",
       "      <td>169.679741</td>\n",
       "      <td>0</td>\n",
       "    </tr>\n",
       "    <tr>\n",
       "      <th>11996</th>\n",
       "      <td>66.423814</td>\n",
       "      <td>174.625574</td>\n",
       "      <td>0</td>\n",
       "    </tr>\n",
       "    <tr>\n",
       "      <th>11997</th>\n",
       "      <td>53.604698</td>\n",
       "      <td>161.919208</td>\n",
       "      <td>1</td>\n",
       "    </tr>\n",
       "    <tr>\n",
       "      <th>11998</th>\n",
       "      <td>50.433644</td>\n",
       "      <td>160.794875</td>\n",
       "      <td>1</td>\n",
       "    </tr>\n",
       "    <tr>\n",
       "      <th>11999</th>\n",
       "      <td>60.224392</td>\n",
       "      <td>169.689709</td>\n",
       "      <td>0</td>\n",
       "    </tr>\n",
       "  </tbody>\n",
       "</table>\n",
       "<p>12000 rows × 3 columns</p>\n",
       "</div>"
      ],
      "text/plain": [
       "          Weight      Height  Cluster\n",
       "0      67.062924  176.086355        0\n",
       "1      68.804094  178.388669        0\n",
       "2      60.930863  170.284496        0\n",
       "3      59.733843  168.691992        0\n",
       "4      65.431230  173.763679        0\n",
       "...          ...         ...      ...\n",
       "11995  59.976983  169.679741        0\n",
       "11996  66.423814  174.625574        0\n",
       "11997  53.604698  161.919208        1\n",
       "11998  50.433644  160.794875        1\n",
       "11999  60.224392  169.689709        0\n",
       "\n",
       "[12000 rows x 3 columns]"
      ]
     },
     "execution_count": 30,
     "metadata": {},
     "output_type": "execute_result"
    }
   ],
   "source": [
    "data['Cluster'] = labels\n",
    "data"
   ]
  },
  {
   "cell_type": "markdown",
   "metadata": {},
   "source": [
    "### **Create a mesh grid over the data points**"
   ]
  },
  {
   "cell_type": "code",
   "execution_count": 31,
   "metadata": {},
   "outputs": [],
   "source": [
    "h = 0.02  # step size in the mesh\n",
    "x_min, x_max = data_scaled[:, 0].min() - 1, data_scaled[:, 0].max() + 1\n",
    "y_min, y_max = data_scaled[:, 1].min() - 1, data_scaled[:, 1].max() + 1\n",
    "xx, yy = np.meshgrid(np.arange(x_min, x_max, h), np.arange(y_min, y_max, h))"
   ]
  },
  {
   "cell_type": "markdown",
   "metadata": {},
   "source": [
    "Step Size (h):\n",
    "h = 0.02 defines the spacing between points in the mesh.\n",
    "\n",
    "Data Range:\n",
    "x_min, x_max: Minimum and maximum values of the first column ([:, 0]) of data_scaled.\n",
    "y_min, y_max: Minimum and maximum values of the second column ([:, 1]) of data_scaled.\n",
    "\n",
    "Meshgrid Creation:\n",
    "np.meshgrid(np.arange(x_min, x_max, h), np.arange(y_min, y_max, h)) creates a grid of points covering the ranges defined by x_min, x_max, y_min, and y_max, with a spacing of h."
   ]
  },
  {
   "cell_type": "markdown",
   "metadata": {},
   "source": [
    "### **Predict cluster labels for each point in the mesh**"
   ]
  },
  {
   "cell_type": "code",
   "execution_count": 32,
   "metadata": {},
   "outputs": [],
   "source": [
    "sample_points = np.c_[xx.ravel(), yy.ravel()]"
   ]
  },
  {
   "cell_type": "markdown",
   "metadata": {},
   "source": [
    "xx and yy are meshgrid arrays created for the purpose of visualization. ravel() flattens these arrays, and np.c_ concatenates them column-wise to create an array where each row represents a coordinate pair in the 2D space."
   ]
  },
  {
   "cell_type": "code",
   "execution_count": 33,
   "metadata": {},
   "outputs": [],
   "source": [
    "predicted_labels = []\n",
    "batch_size = 1000\n",
    "for i in range(0, len(sample_points), batch_size):\n",
    "    batch_points = sample_points[i:i + batch_size]\n",
    "    batch_labels = dbscan.fit_predict(batch_points)\n",
    "    predicted_labels.extend(batch_labels)"
   ]
  },
  {
   "cell_type": "markdown",
   "metadata": {},
   "source": [
    "predicted_labels stores the predicted cluster labels.\n",
    "\n",
    "batch_size determines how many points will be processed in each iteration.\n",
    "\n",
    "The loop iterates through sample_points in batches of batch_size.\n",
    "\n",
    "For each batch of points (batch_points), DBSCAN's fit_predict() method is called to predict cluster labels for the batch.\n",
    "\n",
    "The predicted labels for the batch (batch_labels) are then appended to predicted_labels using extend()."
   ]
  },
  {
   "cell_type": "code",
   "execution_count": 34,
   "metadata": {},
   "outputs": [],
   "source": [
    "Z = np.array(predicted_labels).reshape(xx.shape)"
   ]
  },
  {
   "cell_type": "markdown",
   "metadata": {},
   "source": [
    "predicted_labels is converted into a numpy array and reshaped to match the shape of xx.\n",
    "\n",
    "This reshaping operation (reshape(xx.shape)) transforms the 1D array of predicted labels back into the original 2D meshgrid shape (xx.shape), effectively assigning cluster labels back to their corresponding coordinates in the 2D space.\n"
   ]
  },
  {
   "cell_type": "markdown",
   "metadata": {},
   "source": [
    "Purpose: Classify a grid of points (xx, yy) using DBSCAN clustering.\n",
    "\n",
    "Sampling: Generate a grid of points sample_points from xx and yy.\n",
    "\n",
    "Batch Processing: Process points in batches of 1000 (batch_size).\n",
    "\n",
    "Label Prediction: Use DBSCAN (dbscan) to predict labels for each batch of points.\n",
    "\n",
    "Aggregation: Extend predicted labels into predicted_labels list.\n",
    "\n",
    "Result: Reshape predicted_labels into array Z matching the shape of xx."
   ]
  },
  {
   "cell_type": "markdown",
   "metadata": {},
   "source": [
    "### **Plot the density boundary and clustering result**"
   ]
  },
  {
   "cell_type": "code",
   "execution_count": 35,
   "metadata": {},
   "outputs": [
    {
     "data": {
      "image/png": "[encoded data removed]",
      "text/plain": [
       "<Figure size 1000x600 with 2 Axes>"
      ]
     },
     "metadata": {},
     "output_type": "display_data"
    }
   ],
   "source": [
    "# Plot the density boundary and clustering result\n",
    "plt.figure(figsize=(10, 6))\n",
    "plt.contourf(xx, yy, Z, cmap='viridis', alpha=0.3)\n",
    "plt.scatter(data_scaled[:, 0], data_scaled[:, 1], c=labels, cmap='viridis', marker='o', edgecolor='k', s=50)\n",
    "plt.title('DBSCAN Clustering with Density Boundary')\n",
    "plt.xlabel('Weight (Standardized)')\n",
    "plt.ylabel('Height (Standardized)')\n",
    "plt.colorbar(label='Cluster')\n",
    "plt.grid()\n",
    "plt.show()"
   ]
  },
  {
   "cell_type": "markdown",
   "metadata": {},
   "source": [
    "cmap='viridis': Specifies the colormap to be used for coloring the contours. Here, 'viridis' is a perceptually uniform colormap.\n",
    "\n",
    "alpha=0.3: Sets the transparency level of the filled contours. An alpha value of 0.3 means the contours will be somewhat transparent.\n",
    "\n",
    "edgecolor='k': Specifies the edge color of the markers as black ('k').\n",
    "\n",
    "s=50: Sets the size of the markers to 50 points"
   ]
  }
 ],
 "metadata": {
  "kernelspec": {
   "display_name": "Python 3",
   "language": "python",
   "name": "python3"
  },
  "language_info": {
   "codemirror_mode": {
    "name": "ipython",
    "version": 3
   },
   "file_extension": ".py",
   "mimetype": "text/x-python",
   "name": "python",
   "nbconvert_exporter": "python",
   "pygments_lexer": "ipython3",
   "version": "3.11.9"
  }
 },
 "nbformat": 4,
 "nbformat_minor": 2
}
